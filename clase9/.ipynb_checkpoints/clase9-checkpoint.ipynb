{
 "cells": [
  {
   "cell_type": "code",
   "execution_count": 1,
   "id": "ba6fa70a",
   "metadata": {},
   "outputs": [],
   "source": [
    "from sympy import *\n",
    "import numpy as np\n",
    "import matplotlib.pyplot as plt"
   ]
  },
  {
   "cell_type": "code",
   "execution_count": 2,
   "id": "9e64acf9",
   "metadata": {},
   "outputs": [],
   "source": [
    "def transZsec(arr, zero):\n",
    "    # La funcion recibe un arreglo quees al cual se le va a sacar la\n",
    "    # transformada y un dato 'zero' que es la posición del cero de la secuencia.\n",
    "    Z = Symbol('Z')\n",
    "    pot = zero\n",
    "    for i in arr:\n",
    "        print(f'X({-pot}) =', i*np.power(Z, pot))\n",
    "        pot -= 1"
   ]
  },
  {
   "cell_type": "code",
   "execution_count": 3,
   "id": "5cf3475d",
   "metadata": {},
   "outputs": [],
   "source": [
    "arr = np.array([48, 24, 3, 78, 8])"
   ]
  },
  {
   "cell_type": "code",
   "execution_count": 4,
   "id": "babab974",
   "metadata": {},
   "outputs": [
    {
     "name": "stdout",
     "output_type": "stream",
     "text": [
      "X(-2) = 48*Z**2\n",
      "X(-1) = 24*Z\n",
      "X(0) = 3\n",
      "X(1) = 78/Z\n",
      "X(2) = 8/Z**2\n"
     ]
    }
   ],
   "source": [
    "arr_trans = transZsec(arr, 2)"
   ]
  },
  {
   "cell_type": "markdown",
   "id": "4c5b28b4",
   "metadata": {},
   "source": [
    "### Al realizar la transformada Z, es necesario encontrar la ROC o región de convergencia"
   ]
  },
  {
   "cell_type": "markdown",
   "id": "a1d465c1",
   "metadata": {},
   "source": [
    "### Supongase que mi origen esta localizado en el valor de la mitad, es decir en 3, por tanto la ROC se puede definir de la siguiente manera"
   ]
  },
  {
   "cell_type": "markdown",
   "id": "1f20257e",
   "metadata": {},
   "source": [
    "$ROC = Plano Z$"
   ]
  },
  {
   "cell_type": "markdown",
   "id": "bc2ab9aa",
   "metadata": {},
   "source": [
    "$excepto Z = 0 $"
   ]
  },
  {
   "cell_type": "markdown",
   "id": "841f5833",
   "metadata": {},
   "source": [
    "$excepto Z = ∞ $"
   ]
  },
  {
   "cell_type": "markdown",
   "id": "04f322f6",
   "metadata": {},
   "source": [
    "### Dado que la secuencia es de la forma bilateral"
   ]
  },
  {
   "cell_type": "code",
   "execution_count": null,
   "id": "91634dcf",
   "metadata": {},
   "outputs": [],
   "source": []
  }
 ],
 "metadata": {
  "kernelspec": {
   "display_name": "Python 3 (ipykernel)",
   "language": "python",
   "name": "python3"
  },
  "language_info": {
   "codemirror_mode": {
    "name": "ipython",
    "version": 3
   },
   "file_extension": ".py",
   "mimetype": "text/x-python",
   "name": "python",
   "nbconvert_exporter": "python",
   "pygments_lexer": "ipython3",
   "version": "3.9.13"
  }
 },
 "nbformat": 4,
 "nbformat_minor": 5
}
